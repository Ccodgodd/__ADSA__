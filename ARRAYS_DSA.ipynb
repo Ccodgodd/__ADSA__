{
  "nbformat": 4,
  "nbformat_minor": 0,
  "metadata": {
    "colab": {
      "provenance": [],
      "authorship_tag": "ABX9TyPHhNqTY7dyUxv61Y6AF0IK",
      "include_colab_link": true
    },
    "kernelspec": {
      "name": "python3",
      "display_name": "Python 3"
    },
    "language_info": {
      "name": "python"
    }
  },
  "cells": [
    {
      "cell_type": "markdown",
      "metadata": {
        "id": "view-in-github",
        "colab_type": "text"
      },
      "source": [
        "<a href=\"https://colab.research.google.com/github/Ccodgodd/__ADSA__/blob/main/ARRAYS_DSA.ipynb\" target=\"_parent\"><img src=\"https://colab.research.google.com/assets/colab-badge.svg\" alt=\"Open In Colab\"/></a>"
      ]
    },
    {
      "cell_type": "markdown",
      "source": [
        "Write a program to find the smallest element among N inputted numbers"
      ],
      "metadata": {
        "id": "czfAB_dgeZOE"
      }
    },
    {
      "cell_type": "code",
      "execution_count": null,
      "metadata": {
        "colab": {
          "base_uri": "https://localhost:8080/"
        },
        "id": "sBmrGKV4eV3G",
        "outputId": "3e9b91ba-3436-4fdb-b87c-f201a81b8011"
      },
      "outputs": [
        {
          "output_type": "stream",
          "name": "stdout",
          "text": [
            "The smallest number in the array is := 7\n"
          ]
        }
      ],
      "source": [
        "import numpy as np\n",
        "arr=np.array([12,23,43,456,7,89])\n",
        "arr.sort()\n",
        "print(\"The smallest number in the array is :=\",arr[0])"
      ]
    },
    {
      "cell_type": "markdown",
      "source": [
        "Write a program to rearrange an array in reverse order without using a\n",
        "second array"
      ],
      "metadata": {
        "id": "Wq6K_HeEewd8"
      }
    },
    {
      "cell_type": "code",
      "source": [
        "import numpy as np\n",
        "arr=np.array([12,23,43,456,7,89])\n",
        "print(\"the reverse order of the given array is :=\",arr[::-1])"
      ],
      "metadata": {
        "colab": {
          "base_uri": "https://localhost:8080/"
        },
        "id": "lVwnUFwbete5",
        "outputId": "72052462-2fbe-4f00-f531-3fe9cbce46c4"
      },
      "execution_count": null,
      "outputs": [
        {
          "output_type": "stream",
          "name": "stdout",
          "text": [
            "the reverse order of the given array is := [ 89   7 456  43  23  12]\n"
          ]
        }
      ]
    },
    {
      "cell_type": "markdown",
      "source": [
        "Write a program to calculate standard deviation of N numbers"
      ],
      "metadata": {
        "id": "J9AXPrXze9qf"
      }
    },
    {
      "cell_type": "code",
      "source": [
        "import numpy as np\n",
        "arr=np.array([12,23,43,456,7,89])\n",
        "n=len(arr)\n",
        "sum=0\n",
        "for i in arr:\n",
        "  sum=sum+i\n",
        "  mean=sum/n\n",
        "print(\"The mean of the given array is :=\",mean)\n",
        "sum1=0\n",
        "for j in arr:\n",
        "  s=(j-mean)**2\n",
        "  sum1=sum1+s\n",
        "std=np.sqrt(sum1/n)\n",
        "print(\"The standard deviation of the given array is :=\",std)"
      ],
      "metadata": {
        "id": "3RP3LaOQe8bF"
      },
      "execution_count": null,
      "outputs": []
    },
    {
      "cell_type": "markdown",
      "source": [
        "Write a program to count odd numbers in a set of integers\n"
      ],
      "metadata": {
        "id": "3vrcRRHPf0MK"
      }
    },
    {
      "cell_type": "code",
      "source": [
        "import numpy as np\n",
        "arr=np.array([12,23,43,456,7,89])\n",
        "n=len(arr)\n",
        "sum=0\n",
        "for i in arr:\n",
        "  if i%2!=0:\n",
        "    sum=sum+i\n",
        "  else:\n",
        "    continue\n",
        "print(sum)"
      ],
      "metadata": {
        "id": "LfbsXCAEf3lE"
      },
      "execution_count": null,
      "outputs": []
    },
    {
      "cell_type": "markdown",
      "source": [
        "Write a program to largest odd number in a set of integers"
      ],
      "metadata": {
        "id": "DkDp8xZngGYr"
      }
    },
    {
      "cell_type": "code",
      "source": [
        "import numpy as np\n",
        "arr=np.array([12,23,43,456,7,89])\n",
        "n=len(arr)\n",
        "sum=[]\n",
        "for i in arr:\n",
        "  if i%2!=0:\n",
        "    sum.append(i)\n",
        "\n",
        "  else:\n",
        "    continue\n",
        "  sum.sort()\n",
        "print(sum[0])"
      ],
      "metadata": {
        "id": "j9cFa0QFgJC_"
      },
      "execution_count": null,
      "outputs": []
    },
    {
      "cell_type": "markdown",
      "source": [
        "Write a program to count the total number of prime numbers in a set of\n",
        "integers"
      ],
      "metadata": {
        "id": "OE1gpX-ygTnQ"
      }
    },
    {
      "cell_type": "code",
      "source": [
        "import numpy as np\n",
        "arr=np.array([12,23,43,456,7,89])\n",
        "n=len(arr)\n",
        "sum=0\n",
        "for i in arr:\n",
        "  if i%3==0 and i!=3:\n",
        "    continue\n",
        "  elif i%2==0 and i!=2:\n",
        "    continue\n",
        "  elif i%4==0:\n",
        "    continue\n",
        "  elif i%5==0 and i!=5:\n",
        "    continue\n",
        "  elif i%7==0 and i!=7:\n",
        "    continue\n",
        "  elif i%6==0:\n",
        "    continue\n",
        "  elif i%8==0:\n",
        "    continue\n",
        "  elif i%9==0:\n",
        "    continue\n",
        "  elif i%10==0:\n",
        "    continue\n",
        "  else:\n",
        "    sum=sum+i\n",
        "\n",
        "print(sum)\n",
        "\n",
        "\n"
      ],
      "metadata": {
        "id": "EVOTTuuMgYxJ",
        "colab": {
          "base_uri": "https://localhost:8080/"
        },
        "outputId": "c49a7980-87e0-4e1d-b87d-ac8719fdadfa"
      },
      "execution_count": null,
      "outputs": [
        {
          "output_type": "stream",
          "name": "stdout",
          "text": [
            "162\n"
          ]
        }
      ]
    },
    {
      "cell_type": "markdown",
      "source": [
        "Write a program to find the second highest element among N inputted\n",
        "numbers."
      ],
      "metadata": {
        "id": "5Bb1jQBM4X52"
      }
    },
    {
      "cell_type": "code",
      "source": [
        "import numpy as np\n",
        "arr=np.array([12,23,43,456,7,89])\n",
        "arr.sort()\n",
        "print(\"The second largest number in the array is :=\",arr[n-2])"
      ],
      "metadata": {
        "colab": {
          "base_uri": "https://localhost:8080/"
        },
        "id": "j_hMupKR4XDo",
        "outputId": "b6e2bcf5-bc40-4573-cf3e-b51fa721aee5"
      },
      "execution_count": null,
      "outputs": [
        {
          "output_type": "stream",
          "name": "stdout",
          "text": [
            "The smallest number in the array is := 89\n"
          ]
        }
      ]
    },
    {
      "cell_type": "markdown",
      "source": [
        "Write a program to find the largest difference in a set of numbers"
      ],
      "metadata": {
        "id": "ZR-AmeO948t0"
      }
    },
    {
      "cell_type": "code",
      "source": [
        "import numpy as np\n",
        "arr=np.array([12,23,43,456,7,89])\n",
        "arr.sort()\n",
        "print(\"The smallest number in the array is :=\",arr[0])\n",
        "print(\"The largest number in the array is :=\",arr[n-2])\n",
        "print(\"The difference between the largest and smallest number is :=\",arr[n-2]-arr[0])\n",
        "#"
      ],
      "metadata": {
        "colab": {
          "base_uri": "https://localhost:8080/"
        },
        "id": "rCtroGdr4xen",
        "outputId": "f18af916-c173-4158-b8f9-e1a67e01e262"
      },
      "execution_count": null,
      "outputs": [
        {
          "output_type": "stream",
          "name": "stdout",
          "text": [
            "The smallest number in the array is := 7\n",
            "The largest number in the array is := 89\n",
            "The difference between the largest and smallest number is := 82\n"
          ]
        }
      ]
    },
    {
      "cell_type": "markdown",
      "source": [
        "Write a program to find the binary equivalent of a decimal numbers"
      ],
      "metadata": {
        "id": "AJ1L8sQ85NZB"
      }
    },
    {
      "cell_type": "code",
      "source": [
        "def decimal_to_binary(n):\n",
        "    \"\"\"Converts a decimal number to its binary equivalent.\"\"\"\n",
        "    if n == 0:\n",
        "        return \"0\"\n",
        "    binary = \"\"\n",
        "    while n > 0:\n",
        "        binary = str(n % 2) + binary\n",
        "        n //= 2\n",
        "    return binary\n",
        "decimal_number = 10\n",
        "binary_equivalent = decimal_to_binary(decimal_number)\n",
        "print(f\"The binary equivalent of {decimal_number} is {binary_equivalent}\")\n",
        "\n",
        "decimal_number = 25\n",
        "binary_equivalent = decimal_to_binary(decimal_number)\n",
        "print(f\"The binary equivalent of {decimal_number} is {binary_equivalent}\")\n"
      ],
      "metadata": {
        "id": "a151oj-J5Oei"
      },
      "execution_count": null,
      "outputs": []
    },
    {
      "cell_type": "markdown",
      "source": [
        "Write a program to delete an element from the k-th position of an array."
      ],
      "metadata": {
        "id": "sSDx2Cxt5SZk"
      }
    },
    {
      "cell_type": "code",
      "source": [
        "import numpy as np\n",
        "arr=np.array([12,23,43,456,7,89])\n",
        "k=int(input(\"ENter the position which u wanna remove...\"))\n",
        "arr=np.delete(arr,k)\n",
        "arr"
      ],
      "metadata": {
        "colab": {
          "base_uri": "https://localhost:8080/"
        },
        "id": "_vs3dqFR5Rv5",
        "outputId": "bf12e33f-0dff-4f0b-a8a1-a2e561e4f3d1"
      },
      "execution_count": null,
      "outputs": [
        {
          "name": "stdout",
          "output_type": "stream",
          "text": [
            "ENter the position which u wanna remove...3\n"
          ]
        },
        {
          "output_type": "execute_result",
          "data": {
            "text/plain": [
              "array([12, 23, 43,  7, 89])"
            ]
          },
          "metadata": {},
          "execution_count": 8
        }
      ]
    },
    {
      "cell_type": "markdown",
      "source": [
        "Write a program to insert an element at its proper position in a previously\n",
        "sorted array"
      ],
      "metadata": {
        "id": "uC0BUUHR6Q0q"
      }
    },
    {
      "cell_type": "code",
      "source": [
        "import numpy as np\n",
        "def insert_element_sorted(arr, element):\n",
        "  index = np.searchsorted(arr, element)\n",
        "\n",
        "  new_arr = np.insert(arr, index, element)\n",
        "\n",
        "  return new_arr\n",
        "arr = np.array([12, 23, 43, 456, 89])\n",
        "element_to_insert = 7\n",
        "\n",
        "new_arr = insert_element_sorted(arr, element_to_insert)\n",
        "print(\"Original array:\", arr)\n",
        "print(\"Array after insertion:\", new_arr)"
      ],
      "metadata": {
        "colab": {
          "base_uri": "https://localhost:8080/"
        },
        "id": "a5pKDjCx6TGd",
        "outputId": "0a0bda4c-43bc-4b1b-bc62-47076500a01f"
      },
      "execution_count": null,
      "outputs": [
        {
          "output_type": "stream",
          "name": "stdout",
          "text": [
            "Original array: [ 12  23  43 456  89]\n",
            "Array after insertion: [  7  12  23  43 456  89]\n"
          ]
        }
      ]
    },
    {
      "cell_type": "markdown",
      "source": [
        "Write a program to find the union of two sets of numbers."
      ],
      "metadata": {
        "id": "Jsyy-UHk6ZX0"
      }
    },
    {
      "cell_type": "code",
      "source": [
        "def union_of_sets(set1, set2):\n",
        "  union_set = set1.union(set2)\n",
        "  return union_set\n",
        "\n",
        "\n",
        "set1 = {1, 2, 3, 4, 5}\n",
        "set2 = {3, 4, 5, 6, 7}\n",
        "\n",
        "union_set = union_of_sets(set1, set2)\n",
        "print(\"Union of the two sets:\", union_set)"
      ],
      "metadata": {
        "id": "tTJxaflL6XFS"
      },
      "execution_count": null,
      "outputs": []
    },
    {
      "cell_type": "code",
      "source": [],
      "metadata": {
        "id": "eZDxH0dgqTwm"
      },
      "execution_count": null,
      "outputs": []
    }
  ]
}